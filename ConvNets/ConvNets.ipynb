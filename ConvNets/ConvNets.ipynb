{
  "nbformat": 4,
  "nbformat_minor": 0,
  "metadata": {
    "colab": {
      "name": "ConvNets.ipynb",
      "version": "0.3.2",
      "views": {},
      "default_view": {},
      "provenance": [],
      "collapsed_sections": [],
      "toc_visible": true
    },
    "kernelspec": {
      "name": "python3",
      "display_name": "Python 3"
    },
    "accelerator": "GPU"
  },
  "cells": [
    {
      "metadata": {
        "id": "vhXs5WGMscxW",
        "colab_type": "text"
      },
      "cell_type": "markdown",
      "source": [
        "# Import libraries"
      ]
    },
    {
      "metadata": {
        "id": "swxpM6PsseN1",
        "colab_type": "code",
        "colab": {
          "autoexec": {
            "startup": false,
            "wait_interval": 0
          }
        }
      },
      "cell_type": "code",
      "source": [
        "import pandas as pd\n",
        "import tensorflow as tf\n",
        "from tensorflow import keras\n",
        "import numpy as np\n",
        "from tensorflow.keras import datasets\n",
        "from tensorflow.keras.optimizers import Adam,RMSprop\n",
        "from tensorflow.keras.models import Sequential, save_model\n",
        "from tensorflow.keras.utils import to_categorical\n",
        "from tensorflow.keras.losses import categorical_crossentropy\n",
        "from tensorflow.keras.layers import Dense, Flatten, Conv2D, MaxPooling2D\n",
        "import matplotlib.pyplot as plt\n",
        "from keras.preprocessing.image import ImageDataGenerator\n",
        "from sklearn.metrics import classification_report"
      ],
      "execution_count": 0,
      "outputs": []
    },
    {
      "metadata": {
        "id": "zbEoer3cXQVj",
        "colab_type": "text"
      },
      "cell_type": "markdown",
      "source": [
        "# Get File"
      ]
    },
    {
      "metadata": {
        "id": "KMMw-caXXfCO",
        "colab_type": "code",
        "colab": {
          "autoexec": {
            "startup": false,
            "wait_interval": 0
          },
          "base_uri": "https://localhost:8080/",
          "height": 343
        },
        "outputId": "0d9197f6-39ac-478a-a581-613f88d0ae91",
        "executionInfo": {
          "status": "ok",
          "timestamp": 1533220637372,
          "user_tz": 240,
          "elapsed": 4397,
          "user": {
            "displayName": "Henok Hailu",
            "photoUrl": "https://lh3.googleusercontent.com/a/default-user=s128",
            "userId": "101861755007658745605"
          }
        }
      },
      "cell_type": "code",
      "source": [
        "!pip install PyDrive"
      ],
      "execution_count": 5,
      "outputs": [
        {
          "output_type": "stream",
          "text": [
            "Collecting PyDrive\n",
            "\u001b[?25l  Downloading https://files.pythonhosted.org/packages/52/e0/0e64788e5dd58ce2d6934549676243dc69d982f198524be9b99e9c2a4fd5/PyDrive-1.3.1.tar.gz (987kB)\n",
            "\u001b[K    100% |████████████████████████████████| 993kB 7.4MB/s \n",
            "\u001b[?25hRequirement already satisfied: google-api-python-client>=1.2 in /usr/local/lib/python3.6/dist-packages (from PyDrive) (1.6.7)\n",
            "Requirement already satisfied: oauth2client>=4.0.0 in /usr/local/lib/python3.6/dist-packages (from PyDrive) (4.1.2)\n",
            "Requirement already satisfied: PyYAML>=3.0 in /usr/local/lib/python3.6/dist-packages (from PyDrive) (3.13)\n",
            "Requirement already satisfied: six<2dev,>=1.6.1 in /usr/local/lib/python3.6/dist-packages (from google-api-python-client>=1.2->PyDrive) (1.11.0)\n",
            "Requirement already satisfied: uritemplate<4dev,>=3.0.0 in /usr/local/lib/python3.6/dist-packages (from google-api-python-client>=1.2->PyDrive) (3.0.0)\n",
            "Requirement already satisfied: httplib2<1dev,>=0.9.2 in /usr/local/lib/python3.6/dist-packages (from google-api-python-client>=1.2->PyDrive) (0.11.3)\n",
            "Requirement already satisfied: pyasn1>=0.1.7 in /usr/local/lib/python3.6/dist-packages (from oauth2client>=4.0.0->PyDrive) (0.4.4)\n",
            "Requirement already satisfied: rsa>=3.1.4 in /usr/local/lib/python3.6/dist-packages (from oauth2client>=4.0.0->PyDrive) (3.4.2)\n",
            "Requirement already satisfied: pyasn1-modules>=0.0.5 in /usr/local/lib/python3.6/dist-packages (from oauth2client>=4.0.0->PyDrive) (0.2.2)\n",
            "Building wheels for collected packages: PyDrive\n",
            "  Running setup.py bdist_wheel for PyDrive ... \u001b[?25l-\b \b\\\b \bdone\n",
            "\u001b[?25h  Stored in directory: /content/.cache/pip/wheels/fa/d2/9a/d3b6b506c2da98289e5d417215ce34b696db856643bad779f4\n",
            "Successfully built PyDrive\n",
            "Installing collected packages: PyDrive\n",
            "Successfully installed PyDrive-1.3.1\n"
          ],
          "name": "stdout"
        }
      ]
    },
    {
      "metadata": {
        "id": "ICAIDgjAxIqd",
        "colab_type": "code",
        "colab": {
          "autoexec": {
            "startup": false,
            "wait_interval": 0
          }
        }
      },
      "cell_type": "code",
      "source": [
        "from pydrive.auth import GoogleAuth\n",
        "from pydrive.drive import GoogleDrive\n",
        "from google.colab import auth\n",
        "from oauth2client.client import GoogleCredentials\n",
        "\n",
        "# Authenticate and create the PyDrive client.\n",
        "# This only needs to be done once in a notebook.\n",
        "auth.authenticate_user()\n",
        "gauth = GoogleAuth()\n",
        "gauth.credentials = GoogleCredentials.get_application_default()\n",
        "drive = GoogleDrive(gauth)"
      ],
      "execution_count": 0,
      "outputs": []
    },
    {
      "metadata": {
        "id": "g2i5CTDpWVbh",
        "colab_type": "code",
        "colab": {
          "autoexec": {
            "startup": false,
            "wait_interval": 0
          },
          "base_uri": "https://localhost:8080/",
          "height": 51
        },
        "outputId": "02140798-08d8-46cd-d11f-5a196e4b2770",
        "executionInfo": {
          "status": "ok",
          "timestamp": 1533220703091,
          "user_tz": 240,
          "elapsed": 10700,
          "user": {
            "displayName": "Henok Hailu",
            "photoUrl": "https://lh3.googleusercontent.com/a/default-user=s128",
            "userId": "101861755007658745605"
          }
        }
      },
      "cell_type": "code",
      "source": [
        "fileId = drive.CreateFile({'id': '1LzIXsiDblKpLHJugw5Sn7PZ4zkiqDh_L'})\n",
        "#DRIVE_FILE_ID is file id \n",
        "print(fileId['title'])  # folder_data.zip\n",
        "# Save Drive file as a local file\n",
        "fileId.GetContentFile('train_cats_and_dogs.zip')  \n",
        "\n",
        "fileId = drive.CreateFile({'id': '1QINtIZWxm6nd3_HwEl8xjotxU2WWRfxH'})\n",
        "#DRIVE_FILE_ID is file id \n",
        "print(fileId['title'])  # folder_data.zip\n",
        "# Save Drive file as a local file\n",
        "fileId.GetContentFile('test_cats_and_dogs.zip')\n",
        "\n"
      ],
      "execution_count": 7,
      "outputs": [
        {
          "output_type": "stream",
          "text": [
            "train.zip\n",
            "test1.zip\n"
          ],
          "name": "stdout"
        }
      ]
    },
    {
      "metadata": {
        "id": "3e12KX4TXPWA",
        "colab_type": "code",
        "colab": {
          "autoexec": {
            "startup": false,
            "wait_interval": 0
          },
          "base_uri": "https://localhost:8080/",
          "height": 34
        },
        "outputId": "e0466c85-b2c1-47a8-fd8b-aa5cc26c2fa0",
        "executionInfo": {
          "status": "ok",
          "timestamp": 1533220706131,
          "user_tz": 240,
          "elapsed": 1370,
          "user": {
            "displayName": "Henok Hailu",
            "photoUrl": "https://lh3.googleusercontent.com/a/default-user=s128",
            "userId": "101861755007658745605"
          }
        }
      },
      "cell_type": "code",
      "source": [
        "!ls"
      ],
      "execution_count": 8,
      "outputs": [
        {
          "output_type": "stream",
          "text": [
            "datalab  test_cats_and_dogs.zip  train_cats_and_dogs.zip\r\n"
          ],
          "name": "stdout"
        }
      ]
    },
    {
      "metadata": {
        "id": "e4ulGiMrXkNA",
        "colab_type": "code",
        "colab": {
          "autoexec": {
            "startup": false,
            "wait_interval": 0
          }
        }
      },
      "cell_type": "code",
      "source": [
        "!unzip train_cats_and_dogs.zip -d ./"
      ],
      "execution_count": 0,
      "outputs": []
    },
    {
      "metadata": {
        "id": "_1Ei1Sq6Yd1m",
        "colab_type": "code",
        "colab": {
          "autoexec": {
            "startup": false,
            "wait_interval": 0
          }
        }
      },
      "cell_type": "code",
      "source": [
        "!unzip test_cats_and_dogs.zip -d ./"
      ],
      "execution_count": 0,
      "outputs": []
    },
    {
      "metadata": {
        "id": "hI61BuZvYilY",
        "colab_type": "code",
        "colab": {
          "autoexec": {
            "startup": false,
            "wait_interval": 0
          },
          "base_uri": "https://localhost:8080/",
          "height": 34
        },
        "outputId": "24015744-c5dc-4d61-8051-b6050e072281",
        "executionInfo": {
          "status": "ok",
          "timestamp": 1533220745933,
          "user_tz": 240,
          "elapsed": 1359,
          "user": {
            "displayName": "Henok Hailu",
            "photoUrl": "https://lh3.googleusercontent.com/a/default-user=s128",
            "userId": "101861755007658745605"
          }
        }
      },
      "cell_type": "code",
      "source": [
        "!ls"
      ],
      "execution_count": 11,
      "outputs": [
        {
          "output_type": "stream",
          "text": [
            "datalab  test1\ttest_cats_and_dogs.zip\ttrain  train_cats_and_dogs.zip\r\n"
          ],
          "name": "stdout"
        }
      ]
    },
    {
      "metadata": {
        "id": "Ckkvxb92ERoV",
        "colab_type": "code",
        "colab": {
          "autoexec": {
            "startup": false,
            "wait_interval": 0
          }
        }
      },
      "cell_type": "code",
      "source": [
        "!cd train"
      ],
      "execution_count": 0,
      "outputs": []
    },
    {
      "metadata": {
        "id": "6X7LJM_LEX8d",
        "colab_type": "code",
        "colab": {
          "autoexec": {
            "startup": false,
            "wait_interval": 0
          }
        }
      },
      "cell_type": "code",
      "source": [
        "!mkdir cats"
      ],
      "execution_count": 0,
      "outputs": []
    },
    {
      "metadata": {
        "id": "ceMmopx2EaoZ",
        "colab_type": "code",
        "colab": {
          "autoexec": {
            "startup": false,
            "wait_interval": 0
          }
        }
      },
      "cell_type": "code",
      "source": [
        "!mv cats train"
      ],
      "execution_count": 0,
      "outputs": []
    },
    {
      "metadata": {
        "id": "RzJzOiFAGQrU",
        "colab_type": "code",
        "colab": {
          "autoexec": {
            "startup": false,
            "wait_interval": 0
          }
        }
      },
      "cell_type": "code",
      "source": [
        "!cd train"
      ],
      "execution_count": 0,
      "outputs": []
    },
    {
      "metadata": {
        "id": "r5I4GxNmGVpz",
        "colab_type": "code",
        "colab": {
          "autoexec": {
            "startup": false,
            "wait_interval": 0
          }
        }
      },
      "cell_type": "code",
      "source": [
        "!cd train/"
      ],
      "execution_count": 0,
      "outputs": []
    },
    {
      "metadata": {
        "id": "KoE_OHMDGrPw",
        "colab_type": "code",
        "colab": {
          "autoexec": {
            "startup": false,
            "wait_interval": 0
          }
        }
      },
      "cell_type": "code",
      "source": [
        "!mv train/cat.* train/cats/"
      ],
      "execution_count": 0,
      "outputs": []
    },
    {
      "metadata": {
        "id": "3wEwkIJFG24m",
        "colab_type": "code",
        "colab": {
          "autoexec": {
            "startup": false,
            "wait_interval": 0
          }
        }
      },
      "cell_type": "code",
      "source": [
        "!mkdir train/dogs"
      ],
      "execution_count": 0,
      "outputs": []
    },
    {
      "metadata": {
        "id": "_gg1JnyEHGVU",
        "colab_type": "code",
        "colab": {
          "autoexec": {
            "startup": false,
            "wait_interval": 0
          }
        }
      },
      "cell_type": "code",
      "source": [
        "!mv train/dog.* train/dogs"
      ],
      "execution_count": 0,
      "outputs": []
    },
    {
      "metadata": {
        "id": "-H76zodGfbU8",
        "colab_type": "code",
        "colab": {
          "autoexec": {
            "startup": false,
            "wait_interval": 0
          }
        }
      },
      "cell_type": "code",
      "source": [
        "target_size = (20,20)"
      ],
      "execution_count": 0,
      "outputs": []
    },
    {
      "metadata": {
        "id": "ulY0JMmYYvPs",
        "colab_type": "code",
        "colab": {
          "autoexec": {
            "startup": false,
            "wait_interval": 0
          },
          "base_uri": "https://localhost:8080/",
          "height": 34
        },
        "outputId": "40ac1d8c-7d4d-4db1-a6ef-4eb4f9e50d33",
        "executionInfo": {
          "status": "ok",
          "timestamp": 1533238153275,
          "user_tz": 240,
          "elapsed": 1804,
          "user": {
            "displayName": "Henok Hailu",
            "photoUrl": "https://lh3.googleusercontent.com/a/default-user=s128",
            "userId": "101861755007658745605"
          }
        }
      },
      "cell_type": "code",
      "source": [
        "idg = ImageDataGenerator(rescale=1./255)\n",
        "train_image_generator = idg.flow_from_directory(\n",
        "    'train',classes = ['cats','dogs'],class_mode = 'categorical',\n",
        "    target_size=target_size,batch_size = 50)"
      ],
      "execution_count": 122,
      "outputs": [
        {
          "output_type": "stream",
          "text": [
            "Found 25000 images belonging to 2 classes.\n"
          ],
          "name": "stdout"
        }
      ]
    },
    {
      "metadata": {
        "id": "JlDaSa2XfZpl",
        "colab_type": "code",
        "colab": {
          "autoexec": {
            "startup": false,
            "wait_interval": 0
          },
          "base_uri": "https://localhost:8080/",
          "height": 34
        },
        "outputId": "0c35f037-a076-4620-f2a9-fca84f829325",
        "executionInfo": {
          "status": "ok",
          "timestamp": 1533238154658,
          "user_tz": 240,
          "elapsed": 363,
          "user": {
            "displayName": "Henok Hailu",
            "photoUrl": "https://lh3.googleusercontent.com/a/default-user=s128",
            "userId": "101861755007658745605"
          }
        }
      },
      "cell_type": "code",
      "source": [
        "train_image_generator.class_indices"
      ],
      "execution_count": 123,
      "outputs": [
        {
          "output_type": "execute_result",
          "data": {
            "text/plain": [
              "{'cats': 0, 'dogs': 1}"
            ]
          },
          "metadata": {
            "tags": []
          },
          "execution_count": 123
        }
      ]
    },
    {
      "metadata": {
        "id": "aSv9w6sAfMnz",
        "colab_type": "code",
        "colab": {
          "autoexec": {
            "startup": false,
            "wait_interval": 0
          },
          "base_uri": "https://localhost:8080/",
          "height": 34
        },
        "outputId": "a4f0756f-2543-4dae-8947-f13852c99fa1",
        "executionInfo": {
          "status": "ok",
          "timestamp": 1533238157729,
          "user_tz": 240,
          "elapsed": 494,
          "user": {
            "displayName": "Henok Hailu",
            "photoUrl": "https://lh3.googleusercontent.com/a/default-user=s128",
            "userId": "101861755007658745605"
          }
        }
      },
      "cell_type": "code",
      "source": [
        "train_image_generator\n"
      ],
      "execution_count": 124,
      "outputs": [
        {
          "output_type": "execute_result",
          "data": {
            "text/plain": [
              "<keras.preprocessing.image.DirectoryIterator at 0x7f502e15c400>"
            ]
          },
          "metadata": {
            "tags": []
          },
          "execution_count": 124
        }
      ]
    },
    {
      "metadata": {
        "id": "Hi73AmRjz8xy",
        "colab_type": "code",
        "colab": {
          "autoexec": {
            "startup": false,
            "wait_interval": 0
          }
        }
      },
      "cell_type": "code",
      "source": [
        "!mkdir test"
      ],
      "execution_count": 0,
      "outputs": []
    },
    {
      "metadata": {
        "id": "7Z60-clJ0Nzl",
        "colab_type": "code",
        "colab": {
          "autoexec": {
            "startup": false,
            "wait_interval": 0
          }
        }
      },
      "cell_type": "code",
      "source": [
        "!mv test1 test"
      ],
      "execution_count": 0,
      "outputs": []
    },
    {
      "metadata": {
        "id": "1vjgs3b50xpe",
        "colab_type": "code",
        "colab": {
          "autoexec": {
            "startup": false,
            "wait_interval": 0
          },
          "base_uri": "https://localhost:8080/",
          "height": 34
        },
        "outputId": "2eb5bbe9-1fb4-4356-d92a-0bc15484eca1",
        "executionInfo": {
          "status": "ok",
          "timestamp": 1533238161897,
          "user_tz": 240,
          "elapsed": 1354,
          "user": {
            "displayName": "Henok Hailu",
            "photoUrl": "https://lh3.googleusercontent.com/a/default-user=s128",
            "userId": "101861755007658745605"
          }
        }
      },
      "cell_type": "code",
      "source": [
        "test_image_generator = idg.flow_from_directory('test',\n",
        "                                               target_size=target_size,\n",
        "                                              class_mode='categorical',\n",
        "                                               batch_size = 50)"
      ],
      "execution_count": 125,
      "outputs": [
        {
          "output_type": "stream",
          "text": [
            "Found 12500 images belonging to 1 classes.\n"
          ],
          "name": "stdout"
        }
      ]
    },
    {
      "metadata": {
        "id": "tLHRzNuo1IXj",
        "colab_type": "code",
        "colab": {
          "autoexec": {
            "startup": false,
            "wait_interval": 0
          },
          "base_uri": "https://localhost:8080/",
          "height": 34
        },
        "outputId": "eeb0a20f-5461-484d-f855-47a6e5d99ab6",
        "executionInfo": {
          "status": "ok",
          "timestamp": 1533238162398,
          "user_tz": 240,
          "elapsed": 398,
          "user": {
            "displayName": "Henok Hailu",
            "photoUrl": "https://lh3.googleusercontent.com/a/default-user=s128",
            "userId": "101861755007658745605"
          }
        }
      },
      "cell_type": "code",
      "source": [
        "test_image_generator.class_indices"
      ],
      "execution_count": 126,
      "outputs": [
        {
          "output_type": "execute_result",
          "data": {
            "text/plain": [
              "{'test1': 0}"
            ]
          },
          "metadata": {
            "tags": []
          },
          "execution_count": 126
        }
      ]
    },
    {
      "metadata": {
        "id": "w4nRz84Y9dY6",
        "colab_type": "text"
      },
      "cell_type": "markdown",
      "source": [
        "# Create Model"
      ]
    },
    {
      "metadata": {
        "id": "Kd3Zrjy49ihb",
        "colab_type": "code",
        "colab": {
          "autoexec": {
            "startup": false,
            "wait_interval": 0
          }
        }
      },
      "cell_type": "code",
      "source": [
        "model = Sequential()\n",
        "\n",
        "model.add(Conv2D(32, kernel_size=(3,3), strides = (1,1),\n",
        "                 activation='relu',input_shape = (20,20,3)))\n",
        "model.add(Conv2D(16, kernel_size=(3,3), activation='relu'))\n",
        "model.add(MaxPooling2D(pool_size=(2,2)))\n",
        "\n",
        "model.add(Flatten())\n",
        "model.add(Dense(1000, activation='relu'))\n",
        "model.add(Dense(50,activation='relu'))\n",
        "model.add(Dense(2,activation= 'softmax'))\n",
        "\n",
        "model.compile(loss = categorical_crossentropy, \n",
        "              optimizer = RMSprop(lr = 0.0001, decay=1e-6), \n",
        "              metrics = ['accuracy'])"
      ],
      "execution_count": 0,
      "outputs": []
    },
    {
      "metadata": {
        "id": "nD5HJNvt_n2H",
        "colab_type": "text"
      },
      "cell_type": "markdown",
      "source": [
        "# History"
      ]
    },
    {
      "metadata": {
        "id": "mtrHlrdD_q-e",
        "colab_type": "code",
        "colab": {
          "autoexec": {
            "startup": false,
            "wait_interval": 0
          }
        }
      },
      "cell_type": "code",
      "source": [
        "class AccuracyHistory(tf.keras.callbacks.Callback):\n",
        "    def on_train_begin(self, logs={}):\n",
        "        self.acc = []\n",
        "\n",
        "    def on_epoch_end(self, batch, logs={}):\n",
        "        self.acc.append(logs.get('acc'))\n",
        "\n",
        "history = AccuracyHistory()"
      ],
      "execution_count": 0,
      "outputs": []
    },
    {
      "metadata": {
        "id": "GkDXgSrK_e5x",
        "colab_type": "text"
      },
      "cell_type": "markdown",
      "source": [
        "# Train Model"
      ]
    },
    {
      "metadata": {
        "id": "QmC7GiHG_jWp",
        "colab_type": "code",
        "colab": {
          "autoexec": {
            "startup": false,
            "wait_interval": 0
          },
          "base_uri": "https://localhost:8080/",
          "height": 394
        },
        "outputId": "2393e618-ac5f-4108-bcc9-abb4769654a1",
        "executionInfo": {
          "status": "ok",
          "timestamp": 1533245143160,
          "user_tz": 240,
          "elapsed": 5183717,
          "user": {
            "displayName": "Henok Hailu",
            "photoUrl": "https://lh3.googleusercontent.com/a/default-user=s128",
            "userId": "101861755007658745605"
          }
        }
      },
      "cell_type": "code",
      "source": [
        "model.fit_generator(generator=train_image_generator,\n",
        "                    steps_per_epoch=500, epochs=10,\n",
        "                   callbacks=[history])"
      ],
      "execution_count": 132,
      "outputs": [
        {
          "output_type": "stream",
          "text": [
            "Epoch 1/10\n",
            "500/500 [==============================] - 515s 1s/step - loss: 0.6493 - acc: 0.6149\n",
            "Epoch 2/10\n",
            "288/500 [================>.............] - ETA: 1:10 - loss: 0.6084 - acc: 0.6648"
          ],
          "name": "stdout"
        },
        {
          "output_type": "stream",
          "text": [
            "500/500 [==============================] - 194s 389ms/step - loss: 0.6025 - acc: 0.6715\n",
            "Epoch 3/10\n",
            "460/500 [==========================>...] - ETA: 30s - loss: 0.5722 - acc: 0.7017"
          ],
          "name": "stdout"
        },
        {
          "output_type": "stream",
          "text": [
            "500/500 [==============================] - 402s 804ms/step - loss: 0.5723 - acc: 0.7010\n",
            "Epoch 4/10\n",
            "500/500 [==============================] - 794s 2s/step - loss: 0.5473 - acc: 0.7208\n",
            "Epoch 5/10\n",
            " 22/500 [>.............................] - ETA: 13:16 - loss: 0.5196 - acc: 0.7309"
          ],
          "name": "stdout"
        },
        {
          "output_type": "stream",
          "text": [
            "500/500 [==============================] - 864s 2s/step - loss: 0.5263 - acc: 0.7385\n",
            "Epoch 6/10\n",
            "343/500 [===================>..........] - ETA: 4:33 - loss: 0.5091 - acc: 0.7504"
          ],
          "name": "stdout"
        },
        {
          "output_type": "stream",
          "text": [
            "500/500 [==============================] - 866s 2s/step - loss: 0.5084 - acc: 0.7505\n",
            "Epoch 7/10\n",
            "491/500 [============================>.] - ETA: 15s - loss: 0.4896 - acc: 0.7658"
          ],
          "name": "stdout"
        },
        {
          "output_type": "stream",
          "text": [
            "500/500 [==============================] - 863s 2s/step - loss: 0.4890 - acc: 0.7661\n",
            "Epoch 8/10\n",
            "500/500 [==============================] - 863s 2s/step - loss: 0.4697 - acc: 0.7775\n",
            "Epoch 9/10\n",
            " 37/500 [=>............................] - ETA: 13:13 - loss: 0.4378 - acc: 0.7924"
          ],
          "name": "stdout"
        },
        {
          "output_type": "stream",
          "text": [
            "500/500 [==============================] - 812s 2s/step - loss: 0.4516 - acc: 0.7892\n",
            "Epoch 10/10\n",
            "349/500 [===================>..........] - ETA: 3:48 - loss: 0.4328 - acc: 0.8021"
          ],
          "name": "stdout"
        },
        {
          "output_type": "stream",
          "text": [
            "500/500 [==============================] - 756s 2s/step - loss: 0.4337 - acc: 0.7998\n"
          ],
          "name": "stdout"
        },
        {
          "output_type": "execute_result",
          "data": {
            "text/plain": [
              "<tensorflow.python.keras.callbacks.History at 0x7f502df477f0>"
            ]
          },
          "metadata": {
            "tags": []
          },
          "execution_count": 132
        }
      ]
    },
    {
      "metadata": {
        "id": "lxlTmBUlBqKg",
        "colab_type": "code",
        "colab": {
          "autoexec": {
            "startup": false,
            "wait_interval": 0
          }
        }
      },
      "cell_type": "code",
      "source": [
        "model.save('Dog-Cat_Classifier')"
      ],
      "execution_count": 0,
      "outputs": []
    },
    {
      "metadata": {
        "id": "uNIL-96blYWY",
        "colab_type": "code",
        "colab": {
          "autoexec": {
            "startup": false,
            "wait_interval": 0
          }
        }
      },
      "cell_type": "code",
      "source": [
        "y_pred = model.predict_generator(test_image_generator,steps=250)"
      ],
      "execution_count": 0,
      "outputs": []
    },
    {
      "metadata": {
        "id": "sK4MTgR9ngX6",
        "colab_type": "code",
        "colab": {
          "autoexec": {
            "startup": false,
            "wait_interval": 0
          },
          "base_uri": "https://localhost:8080/",
          "height": 34
        },
        "outputId": "9739c1df-c98b-4ca7-99d0-e43ac98fa1e8",
        "executionInfo": {
          "status": "ok",
          "timestamp": 1533246596049,
          "user_tz": 240,
          "elapsed": 291,
          "user": {
            "displayName": "Henok Hailu",
            "photoUrl": "https://lh3.googleusercontent.com/a/default-user=s128",
            "userId": "101861755007658745605"
          }
        }
      },
      "cell_type": "code",
      "source": [
        "print(y_pred.shape)"
      ],
      "execution_count": 136,
      "outputs": [
        {
          "output_type": "stream",
          "text": [
            "(12500, 2)\n"
          ],
          "name": "stdout"
        }
      ]
    },
    {
      "metadata": {
        "id": "qoPpDvoCmTTi",
        "colab_type": "code",
        "colab": {
          "autoexec": {
            "startup": false,
            "wait_interval": 0
          }
        }
      },
      "cell_type": "code",
      "source": [
        "results = [np.argmax(a) for a in y_pred]"
      ],
      "execution_count": 0,
      "outputs": []
    },
    {
      "metadata": {
        "id": "RPCcEuU4mwFh",
        "colab_type": "code",
        "colab": {
          "autoexec": {
            "startup": false,
            "wait_interval": 0
          }
        }
      },
      "cell_type": "code",
      "source": [
        "np.array(results).tofile('output.csv',sep = '\\n')"
      ],
      "execution_count": 0,
      "outputs": []
    },
    {
      "metadata": {
        "id": "hKA0SJF-4D-E",
        "colab_type": "code",
        "colab": {
          "autoexec": {
            "startup": false,
            "wait_interval": 0
          }
        }
      },
      "cell_type": "code",
      "source": [
        ""
      ],
      "execution_count": 0,
      "outputs": []
    }
  ]
}